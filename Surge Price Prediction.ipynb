{
 "cells": [
  {
   "cell_type": "markdown",
   "metadata": {},
   "source": [
    "# Importing Libraries"
   ]
  },
  {
   "cell_type": "code",
   "execution_count": 1,
   "metadata": {
    "execution": {
     "iopub.execute_input": "2021-08-16T05:09:49.508804Z",
     "iopub.status.busy": "2021-08-16T05:09:49.508476Z",
     "iopub.status.idle": "2021-08-16T05:09:52.115686Z",
     "shell.execute_reply": "2021-08-16T05:09:52.114462Z",
     "shell.execute_reply.started": "2021-08-16T05:09:49.50877Z"
    }
   },
   "outputs": [],
   "source": [
    "#Importing basic libraries\n",
    "import pandas as pd\n",
    "import numpy as np\n",
    "\n",
    "#Other libraries\n",
    "from sklearn.model_selection import train_test_split\n",
    "#Machine Learning Algorithm\n",
    "from sklearn.tree import DecisionTreeClassifier\n",
    "from sklearn.neighbors import KNeighborsClassifier\n",
    "from sklearn.linear_model import LogisticRegression\n",
    "from sklearn.naive_bayes import GaussianNB\n",
    "from sklearn.ensemble import RandomForestClassifier\n",
    "import lightgbm as lgb\n",
    "\n",
    "from sklearn.metrics import classification_report\n",
    "from sklearn.metrics import accuracy_score\n",
    "from sklearn.metrics import confusion_matrix"
   ]
  },
  {
   "cell_type": "markdown",
   "metadata": {},
   "source": [
    "# Importing the Dataset"
   ]
  },
  {
   "cell_type": "code",
   "execution_count": 2,
   "metadata": {
    "execution": {
     "iopub.execute_input": "2021-08-16T05:09:52.1178Z",
     "iopub.status.busy": "2021-08-16T05:09:52.117485Z",
     "iopub.status.idle": "2021-08-16T05:09:52.593526Z",
     "shell.execute_reply": "2021-08-16T05:09:52.592331Z",
     "shell.execute_reply.started": "2021-08-16T05:09:52.11777Z"
    }
   },
   "outputs": [
    {
     "data": {
      "text/html": [
       "<div>\n",
       "<style scoped>\n",
       "    .dataframe tbody tr th:only-of-type {\n",
       "        vertical-align: middle;\n",
       "    }\n",
       "\n",
       "    .dataframe tbody tr th {\n",
       "        vertical-align: top;\n",
       "    }\n",
       "\n",
       "    .dataframe thead th {\n",
       "        text-align: right;\n",
       "    }\n",
       "</style>\n",
       "<table border=\"1\" class=\"dataframe\">\n",
       "  <thead>\n",
       "    <tr style=\"text-align: right;\">\n",
       "      <th></th>\n",
       "      <th>Trip_ID</th>\n",
       "      <th>Trip_Distance</th>\n",
       "      <th>Type_of_Cab</th>\n",
       "      <th>Customer_Since_Months</th>\n",
       "      <th>Life_Style_Index</th>\n",
       "      <th>Confidence_Life_Style_Index</th>\n",
       "      <th>Destination_Type</th>\n",
       "      <th>Customer_Rating</th>\n",
       "      <th>Cancellation_Last_1Month</th>\n",
       "      <th>Var1</th>\n",
       "      <th>Var2</th>\n",
       "      <th>Var3</th>\n",
       "      <th>Gender</th>\n",
       "      <th>Surge_Pricing_Type</th>\n",
       "    </tr>\n",
       "  </thead>\n",
       "  <tbody>\n",
       "    <tr>\n",
       "      <th>0</th>\n",
       "      <td>T0005689460</td>\n",
       "      <td>6.77</td>\n",
       "      <td>B</td>\n",
       "      <td>1.0</td>\n",
       "      <td>2.42769</td>\n",
       "      <td>A</td>\n",
       "      <td>A</td>\n",
       "      <td>3.90500</td>\n",
       "      <td>0</td>\n",
       "      <td>40.0</td>\n",
       "      <td>46</td>\n",
       "      <td>60</td>\n",
       "      <td>Female</td>\n",
       "      <td>2</td>\n",
       "    </tr>\n",
       "    <tr>\n",
       "      <th>1</th>\n",
       "      <td>T0005689461</td>\n",
       "      <td>29.47</td>\n",
       "      <td>B</td>\n",
       "      <td>10.0</td>\n",
       "      <td>2.78245</td>\n",
       "      <td>B</td>\n",
       "      <td>A</td>\n",
       "      <td>3.45000</td>\n",
       "      <td>0</td>\n",
       "      <td>38.0</td>\n",
       "      <td>56</td>\n",
       "      <td>78</td>\n",
       "      <td>Male</td>\n",
       "      <td>2</td>\n",
       "    </tr>\n",
       "    <tr>\n",
       "      <th>2</th>\n",
       "      <td>T0005689464</td>\n",
       "      <td>41.58</td>\n",
       "      <td>NaN</td>\n",
       "      <td>10.0</td>\n",
       "      <td>NaN</td>\n",
       "      <td>NaN</td>\n",
       "      <td>E</td>\n",
       "      <td>3.50125</td>\n",
       "      <td>2</td>\n",
       "      <td>NaN</td>\n",
       "      <td>56</td>\n",
       "      <td>77</td>\n",
       "      <td>Male</td>\n",
       "      <td>2</td>\n",
       "    </tr>\n",
       "    <tr>\n",
       "      <th>3</th>\n",
       "      <td>T0005689465</td>\n",
       "      <td>61.56</td>\n",
       "      <td>C</td>\n",
       "      <td>10.0</td>\n",
       "      <td>NaN</td>\n",
       "      <td>NaN</td>\n",
       "      <td>A</td>\n",
       "      <td>3.45375</td>\n",
       "      <td>0</td>\n",
       "      <td>NaN</td>\n",
       "      <td>52</td>\n",
       "      <td>74</td>\n",
       "      <td>Male</td>\n",
       "      <td>3</td>\n",
       "    </tr>\n",
       "    <tr>\n",
       "      <th>4</th>\n",
       "      <td>T0005689467</td>\n",
       "      <td>54.95</td>\n",
       "      <td>C</td>\n",
       "      <td>10.0</td>\n",
       "      <td>3.03453</td>\n",
       "      <td>B</td>\n",
       "      <td>A</td>\n",
       "      <td>3.40250</td>\n",
       "      <td>4</td>\n",
       "      <td>51.0</td>\n",
       "      <td>49</td>\n",
       "      <td>102</td>\n",
       "      <td>Male</td>\n",
       "      <td>2</td>\n",
       "    </tr>\n",
       "  </tbody>\n",
       "</table>\n",
       "</div>"
      ],
      "text/plain": [
       "       Trip_ID  Trip_Distance Type_of_Cab  Customer_Since_Months  \\\n",
       "0  T0005689460           6.77           B                    1.0   \n",
       "1  T0005689461          29.47           B                   10.0   \n",
       "2  T0005689464          41.58         NaN                   10.0   \n",
       "3  T0005689465          61.56           C                   10.0   \n",
       "4  T0005689467          54.95           C                   10.0   \n",
       "\n",
       "   Life_Style_Index Confidence_Life_Style_Index Destination_Type  \\\n",
       "0           2.42769                           A                A   \n",
       "1           2.78245                           B                A   \n",
       "2               NaN                         NaN                E   \n",
       "3               NaN                         NaN                A   \n",
       "4           3.03453                           B                A   \n",
       "\n",
       "   Customer_Rating  Cancellation_Last_1Month  Var1  Var2  Var3  Gender  \\\n",
       "0          3.90500                         0  40.0    46    60  Female   \n",
       "1          3.45000                         0  38.0    56    78    Male   \n",
       "2          3.50125                         2   NaN    56    77    Male   \n",
       "3          3.45375                         0   NaN    52    74    Male   \n",
       "4          3.40250                         4  51.0    49   102    Male   \n",
       "\n",
       "   Surge_Pricing_Type  \n",
       "0                   2  \n",
       "1                   2  \n",
       "2                   2  \n",
       "3                   3  \n",
       "4                   2  "
      ]
     },
     "execution_count": 2,
     "metadata": {},
     "output_type": "execute_result"
    }
   ],
   "source": [
    "# Importing the dataset\n",
    "train = pd.read_csv('sigma_cabs.csv')\n",
    "# show first 5 records of training dataset\n",
    "train.head()"
   ]
  },
  {
   "cell_type": "code",
   "execution_count": 3,
   "metadata": {
    "execution": {
     "iopub.execute_input": "2021-08-16T05:09:52.596056Z",
     "iopub.status.busy": "2021-08-16T05:09:52.595594Z",
     "iopub.status.idle": "2021-08-16T05:09:52.694272Z",
     "shell.execute_reply": "2021-08-16T05:09:52.693032Z",
     "shell.execute_reply.started": "2021-08-16T05:09:52.596008Z"
    }
   },
   "outputs": [
    {
     "data": {
      "text/html": [
       "<div>\n",
       "<style scoped>\n",
       "    .dataframe tbody tr th:only-of-type {\n",
       "        vertical-align: middle;\n",
       "    }\n",
       "\n",
       "    .dataframe tbody tr th {\n",
       "        vertical-align: top;\n",
       "    }\n",
       "\n",
       "    .dataframe thead th {\n",
       "        text-align: right;\n",
       "    }\n",
       "</style>\n",
       "<table border=\"1\" class=\"dataframe\">\n",
       "  <thead>\n",
       "    <tr style=\"text-align: right;\">\n",
       "      <th></th>\n",
       "      <th>Trip_Distance</th>\n",
       "      <th>Customer_Since_Months</th>\n",
       "      <th>Life_Style_Index</th>\n",
       "      <th>Customer_Rating</th>\n",
       "      <th>Cancellation_Last_1Month</th>\n",
       "      <th>Var1</th>\n",
       "      <th>Var2</th>\n",
       "      <th>Var3</th>\n",
       "      <th>Surge_Pricing_Type</th>\n",
       "    </tr>\n",
       "  </thead>\n",
       "  <tbody>\n",
       "    <tr>\n",
       "      <th>count</th>\n",
       "      <td>131662.000000</td>\n",
       "      <td>125742.000000</td>\n",
       "      <td>111469.000000</td>\n",
       "      <td>131662.000000</td>\n",
       "      <td>131662.000000</td>\n",
       "      <td>60632.000000</td>\n",
       "      <td>131662.000000</td>\n",
       "      <td>131662.000000</td>\n",
       "      <td>131662.000000</td>\n",
       "    </tr>\n",
       "    <tr>\n",
       "      <th>mean</th>\n",
       "      <td>44.200909</td>\n",
       "      <td>6.016661</td>\n",
       "      <td>2.802064</td>\n",
       "      <td>2.849458</td>\n",
       "      <td>0.782838</td>\n",
       "      <td>64.202698</td>\n",
       "      <td>51.202800</td>\n",
       "      <td>75.099019</td>\n",
       "      <td>2.155747</td>\n",
       "    </tr>\n",
       "    <tr>\n",
       "      <th>std</th>\n",
       "      <td>25.522882</td>\n",
       "      <td>3.626887</td>\n",
       "      <td>0.225796</td>\n",
       "      <td>0.980675</td>\n",
       "      <td>1.037559</td>\n",
       "      <td>21.820447</td>\n",
       "      <td>4.986142</td>\n",
       "      <td>11.578278</td>\n",
       "      <td>0.738164</td>\n",
       "    </tr>\n",
       "    <tr>\n",
       "      <th>min</th>\n",
       "      <td>0.310000</td>\n",
       "      <td>0.000000</td>\n",
       "      <td>1.596380</td>\n",
       "      <td>0.001250</td>\n",
       "      <td>0.000000</td>\n",
       "      <td>30.000000</td>\n",
       "      <td>40.000000</td>\n",
       "      <td>52.000000</td>\n",
       "      <td>1.000000</td>\n",
       "    </tr>\n",
       "    <tr>\n",
       "      <th>25%</th>\n",
       "      <td>24.580000</td>\n",
       "      <td>3.000000</td>\n",
       "      <td>2.654730</td>\n",
       "      <td>2.152500</td>\n",
       "      <td>0.000000</td>\n",
       "      <td>46.000000</td>\n",
       "      <td>48.000000</td>\n",
       "      <td>67.000000</td>\n",
       "      <td>2.000000</td>\n",
       "    </tr>\n",
       "    <tr>\n",
       "      <th>50%</th>\n",
       "      <td>38.200000</td>\n",
       "      <td>6.000000</td>\n",
       "      <td>2.798050</td>\n",
       "      <td>2.895000</td>\n",
       "      <td>0.000000</td>\n",
       "      <td>61.000000</td>\n",
       "      <td>50.000000</td>\n",
       "      <td>74.000000</td>\n",
       "      <td>2.000000</td>\n",
       "    </tr>\n",
       "    <tr>\n",
       "      <th>75%</th>\n",
       "      <td>60.730000</td>\n",
       "      <td>10.000000</td>\n",
       "      <td>2.946780</td>\n",
       "      <td>3.582500</td>\n",
       "      <td>1.000000</td>\n",
       "      <td>80.000000</td>\n",
       "      <td>54.000000</td>\n",
       "      <td>82.000000</td>\n",
       "      <td>3.000000</td>\n",
       "    </tr>\n",
       "    <tr>\n",
       "      <th>max</th>\n",
       "      <td>109.230000</td>\n",
       "      <td>10.000000</td>\n",
       "      <td>4.875110</td>\n",
       "      <td>5.000000</td>\n",
       "      <td>8.000000</td>\n",
       "      <td>210.000000</td>\n",
       "      <td>124.000000</td>\n",
       "      <td>206.000000</td>\n",
       "      <td>3.000000</td>\n",
       "    </tr>\n",
       "  </tbody>\n",
       "</table>\n",
       "</div>"
      ],
      "text/plain": [
       "       Trip_Distance  Customer_Since_Months  Life_Style_Index  \\\n",
       "count  131662.000000          125742.000000     111469.000000   \n",
       "mean       44.200909               6.016661          2.802064   \n",
       "std        25.522882               3.626887          0.225796   \n",
       "min         0.310000               0.000000          1.596380   \n",
       "25%        24.580000               3.000000          2.654730   \n",
       "50%        38.200000               6.000000          2.798050   \n",
       "75%        60.730000              10.000000          2.946780   \n",
       "max       109.230000              10.000000          4.875110   \n",
       "\n",
       "       Customer_Rating  Cancellation_Last_1Month          Var1           Var2  \\\n",
       "count    131662.000000             131662.000000  60632.000000  131662.000000   \n",
       "mean          2.849458                  0.782838     64.202698      51.202800   \n",
       "std           0.980675                  1.037559     21.820447       4.986142   \n",
       "min           0.001250                  0.000000     30.000000      40.000000   \n",
       "25%           2.152500                  0.000000     46.000000      48.000000   \n",
       "50%           2.895000                  0.000000     61.000000      50.000000   \n",
       "75%           3.582500                  1.000000     80.000000      54.000000   \n",
       "max           5.000000                  8.000000    210.000000     124.000000   \n",
       "\n",
       "                Var3  Surge_Pricing_Type  \n",
       "count  131662.000000       131662.000000  \n",
       "mean       75.099019            2.155747  \n",
       "std        11.578278            0.738164  \n",
       "min        52.000000            1.000000  \n",
       "25%        67.000000            2.000000  \n",
       "50%        74.000000            2.000000  \n",
       "75%        82.000000            3.000000  \n",
       "max       206.000000            3.000000  "
      ]
     },
     "execution_count": 3,
     "metadata": {},
     "output_type": "execute_result"
    }
   ],
   "source": [
    "train.describe()"
   ]
  },
  {
   "cell_type": "code",
   "execution_count": 4,
   "metadata": {
    "execution": {
     "iopub.execute_input": "2021-08-16T05:09:52.695795Z",
     "iopub.status.busy": "2021-08-16T05:09:52.695507Z",
     "iopub.status.idle": "2021-08-16T05:09:52.702486Z",
     "shell.execute_reply": "2021-08-16T05:09:52.70127Z",
     "shell.execute_reply.started": "2021-08-16T05:09:52.695767Z"
    }
   },
   "outputs": [
    {
     "data": {
      "text/plain": [
       "(131662, 14)"
      ]
     },
     "execution_count": 4,
     "metadata": {},
     "output_type": "execute_result"
    }
   ],
   "source": [
    "train.shape"
   ]
  },
  {
   "cell_type": "code",
   "execution_count": 5,
   "metadata": {
    "execution": {
     "iopub.execute_input": "2021-08-16T05:09:52.795391Z",
     "iopub.status.busy": "2021-08-16T05:09:52.795023Z",
     "iopub.status.idle": "2021-08-16T05:09:52.86939Z",
     "shell.execute_reply": "2021-08-16T05:09:52.868141Z",
     "shell.execute_reply.started": "2021-08-16T05:09:52.795356Z"
    }
   },
   "outputs": [
    {
     "data": {
      "text/plain": [
       "Trip_ID                            0\n",
       "Trip_Distance                      0\n",
       "Type_of_Cab                    20210\n",
       "Customer_Since_Months           5920\n",
       "Life_Style_Index               20193\n",
       "Confidence_Life_Style_Index    20193\n",
       "Destination_Type                   0\n",
       "Customer_Rating                    0\n",
       "Cancellation_Last_1Month           0\n",
       "Var1                           71030\n",
       "Var2                               0\n",
       "Var3                               0\n",
       "Gender                             0\n",
       "Surge_Pricing_Type                 0\n",
       "dtype: int64"
      ]
     },
     "execution_count": 5,
     "metadata": {},
     "output_type": "execute_result"
    }
   ],
   "source": [
    "# identify null values\n",
    "train.isnull().sum()"
   ]
  },
  {
   "cell_type": "markdown",
   "metadata": {},
   "source": [
    "# Data Preprocessing"
   ]
  },
  {
   "cell_type": "code",
   "execution_count": 6,
   "metadata": {
    "execution": {
     "iopub.execute_input": "2021-08-16T05:09:52.872532Z",
     "iopub.status.busy": "2021-08-16T05:09:52.872174Z",
     "iopub.status.idle": "2021-08-16T05:09:54.165494Z",
     "shell.execute_reply": "2021-08-16T05:09:54.164417Z",
     "shell.execute_reply.started": "2021-08-16T05:09:52.872498Z"
    }
   },
   "outputs": [
    {
     "data": {
      "text/html": [
       "<div>\n",
       "<style scoped>\n",
       "    .dataframe tbody tr th:only-of-type {\n",
       "        vertical-align: middle;\n",
       "    }\n",
       "\n",
       "    .dataframe tbody tr th {\n",
       "        vertical-align: top;\n",
       "    }\n",
       "\n",
       "    .dataframe thead th {\n",
       "        text-align: right;\n",
       "    }\n",
       "</style>\n",
       "<table border=\"1\" class=\"dataframe\">\n",
       "  <thead>\n",
       "    <tr style=\"text-align: right;\">\n",
       "      <th></th>\n",
       "      <th>Trip_ID</th>\n",
       "      <th>Trip_Distance</th>\n",
       "      <th>Type_of_Cab</th>\n",
       "      <th>Customer_Since_Months</th>\n",
       "      <th>Life_Style_Index</th>\n",
       "      <th>Confidence_Life_Style_Index</th>\n",
       "      <th>Destination_Type</th>\n",
       "      <th>Customer_Rating</th>\n",
       "      <th>Cancellation_Last_1Month</th>\n",
       "      <th>Var1</th>\n",
       "      <th>Var2</th>\n",
       "      <th>Var3</th>\n",
       "      <th>Gender</th>\n",
       "      <th>Surge_Pricing_Type</th>\n",
       "    </tr>\n",
       "  </thead>\n",
       "  <tbody>\n",
       "    <tr>\n",
       "      <th>0</th>\n",
       "      <td>T0005689460</td>\n",
       "      <td>6.77</td>\n",
       "      <td>B</td>\n",
       "      <td>1.0</td>\n",
       "      <td>2.42769</td>\n",
       "      <td>A</td>\n",
       "      <td>A</td>\n",
       "      <td>3.90500</td>\n",
       "      <td>0</td>\n",
       "      <td>40.0</td>\n",
       "      <td>46</td>\n",
       "      <td>60</td>\n",
       "      <td>Female</td>\n",
       "      <td>2</td>\n",
       "    </tr>\n",
       "    <tr>\n",
       "      <th>1</th>\n",
       "      <td>T0005689461</td>\n",
       "      <td>29.47</td>\n",
       "      <td>B</td>\n",
       "      <td>10.0</td>\n",
       "      <td>2.78245</td>\n",
       "      <td>B</td>\n",
       "      <td>A</td>\n",
       "      <td>3.45000</td>\n",
       "      <td>0</td>\n",
       "      <td>38.0</td>\n",
       "      <td>56</td>\n",
       "      <td>78</td>\n",
       "      <td>Male</td>\n",
       "      <td>2</td>\n",
       "    </tr>\n",
       "    <tr>\n",
       "      <th>2</th>\n",
       "      <td>T0005689464</td>\n",
       "      <td>41.58</td>\n",
       "      <td>NaN</td>\n",
       "      <td>10.0</td>\n",
       "      <td>NaN</td>\n",
       "      <td>NaN</td>\n",
       "      <td>E</td>\n",
       "      <td>3.50125</td>\n",
       "      <td>2</td>\n",
       "      <td>NaN</td>\n",
       "      <td>56</td>\n",
       "      <td>77</td>\n",
       "      <td>Male</td>\n",
       "      <td>2</td>\n",
       "    </tr>\n",
       "    <tr>\n",
       "      <th>3</th>\n",
       "      <td>T0005689465</td>\n",
       "      <td>61.56</td>\n",
       "      <td>C</td>\n",
       "      <td>10.0</td>\n",
       "      <td>NaN</td>\n",
       "      <td>NaN</td>\n",
       "      <td>A</td>\n",
       "      <td>3.45375</td>\n",
       "      <td>0</td>\n",
       "      <td>NaN</td>\n",
       "      <td>52</td>\n",
       "      <td>74</td>\n",
       "      <td>Male</td>\n",
       "      <td>3</td>\n",
       "    </tr>\n",
       "    <tr>\n",
       "      <th>4</th>\n",
       "      <td>T0005689467</td>\n",
       "      <td>54.95</td>\n",
       "      <td>C</td>\n",
       "      <td>10.0</td>\n",
       "      <td>3.03453</td>\n",
       "      <td>B</td>\n",
       "      <td>A</td>\n",
       "      <td>3.40250</td>\n",
       "      <td>4</td>\n",
       "      <td>51.0</td>\n",
       "      <td>49</td>\n",
       "      <td>102</td>\n",
       "      <td>Male</td>\n",
       "      <td>2</td>\n",
       "    </tr>\n",
       "    <tr>\n",
       "      <th>...</th>\n",
       "      <td>...</td>\n",
       "      <td>...</td>\n",
       "      <td>...</td>\n",
       "      <td>...</td>\n",
       "      <td>...</td>\n",
       "      <td>...</td>\n",
       "      <td>...</td>\n",
       "      <td>...</td>\n",
       "      <td>...</td>\n",
       "      <td>...</td>\n",
       "      <td>...</td>\n",
       "      <td>...</td>\n",
       "      <td>...</td>\n",
       "      <td>...</td>\n",
       "    </tr>\n",
       "    <tr>\n",
       "      <th>131657</th>\n",
       "      <td>T0005908509</td>\n",
       "      <td>11.72</td>\n",
       "      <td>D</td>\n",
       "      <td>1.0</td>\n",
       "      <td>2.74229</td>\n",
       "      <td>A</td>\n",
       "      <td>A</td>\n",
       "      <td>3.28500</td>\n",
       "      <td>0</td>\n",
       "      <td>61.0</td>\n",
       "      <td>47</td>\n",
       "      <td>76</td>\n",
       "      <td>Male</td>\n",
       "      <td>3</td>\n",
       "    </tr>\n",
       "    <tr>\n",
       "      <th>131658</th>\n",
       "      <td>T0005908510</td>\n",
       "      <td>74.81</td>\n",
       "      <td>C</td>\n",
       "      <td>7.0</td>\n",
       "      <td>2.81059</td>\n",
       "      <td>C</td>\n",
       "      <td>A</td>\n",
       "      <td>0.44500</td>\n",
       "      <td>0</td>\n",
       "      <td>NaN</td>\n",
       "      <td>63</td>\n",
       "      <td>88</td>\n",
       "      <td>Male</td>\n",
       "      <td>2</td>\n",
       "    </tr>\n",
       "    <tr>\n",
       "      <th>131659</th>\n",
       "      <td>T0005908512</td>\n",
       "      <td>40.17</td>\n",
       "      <td>C</td>\n",
       "      <td>10.0</td>\n",
       "      <td>2.99565</td>\n",
       "      <td>B</td>\n",
       "      <td>A</td>\n",
       "      <td>3.33625</td>\n",
       "      <td>0</td>\n",
       "      <td>NaN</td>\n",
       "      <td>48</td>\n",
       "      <td>75</td>\n",
       "      <td>Female</td>\n",
       "      <td>2</td>\n",
       "    </tr>\n",
       "    <tr>\n",
       "      <th>131660</th>\n",
       "      <td>T0005908513</td>\n",
       "      <td>46.88</td>\n",
       "      <td>B</td>\n",
       "      <td>4.0</td>\n",
       "      <td>3.04744</td>\n",
       "      <td>A</td>\n",
       "      <td>B</td>\n",
       "      <td>4.15750</td>\n",
       "      <td>1</td>\n",
       "      <td>47.0</td>\n",
       "      <td>54</td>\n",
       "      <td>79</td>\n",
       "      <td>Male</td>\n",
       "      <td>2</td>\n",
       "    </tr>\n",
       "    <tr>\n",
       "      <th>131661</th>\n",
       "      <td>T0005908514</td>\n",
       "      <td>31.96</td>\n",
       "      <td>A</td>\n",
       "      <td>7.0</td>\n",
       "      <td>2.93773</td>\n",
       "      <td>A</td>\n",
       "      <td>E</td>\n",
       "      <td>2.63875</td>\n",
       "      <td>1</td>\n",
       "      <td>102.0</td>\n",
       "      <td>57</td>\n",
       "      <td>85</td>\n",
       "      <td>Male</td>\n",
       "      <td>1</td>\n",
       "    </tr>\n",
       "  </tbody>\n",
       "</table>\n",
       "<p>131662 rows × 14 columns</p>\n",
       "</div>"
      ],
      "text/plain": [
       "            Trip_ID  Trip_Distance Type_of_Cab  Customer_Since_Months  \\\n",
       "0       T0005689460           6.77           B                    1.0   \n",
       "1       T0005689461          29.47           B                   10.0   \n",
       "2       T0005689464          41.58         NaN                   10.0   \n",
       "3       T0005689465          61.56           C                   10.0   \n",
       "4       T0005689467          54.95           C                   10.0   \n",
       "...             ...            ...         ...                    ...   \n",
       "131657  T0005908509          11.72           D                    1.0   \n",
       "131658  T0005908510          74.81           C                    7.0   \n",
       "131659  T0005908512          40.17           C                   10.0   \n",
       "131660  T0005908513          46.88           B                    4.0   \n",
       "131661  T0005908514          31.96           A                    7.0   \n",
       "\n",
       "        Life_Style_Index Confidence_Life_Style_Index Destination_Type  \\\n",
       "0                2.42769                           A                A   \n",
       "1                2.78245                           B                A   \n",
       "2                    NaN                         NaN                E   \n",
       "3                    NaN                         NaN                A   \n",
       "4                3.03453                           B                A   \n",
       "...                  ...                         ...              ...   \n",
       "131657           2.74229                           A                A   \n",
       "131658           2.81059                           C                A   \n",
       "131659           2.99565                           B                A   \n",
       "131660           3.04744                           A                B   \n",
       "131661           2.93773                           A                E   \n",
       "\n",
       "        Customer_Rating  Cancellation_Last_1Month   Var1  Var2  Var3  Gender  \\\n",
       "0               3.90500                         0   40.0    46    60  Female   \n",
       "1               3.45000                         0   38.0    56    78    Male   \n",
       "2               3.50125                         2    NaN    56    77    Male   \n",
       "3               3.45375                         0    NaN    52    74    Male   \n",
       "4               3.40250                         4   51.0    49   102    Male   \n",
       "...                 ...                       ...    ...   ...   ...     ...   \n",
       "131657          3.28500                         0   61.0    47    76    Male   \n",
       "131658          0.44500                         0    NaN    63    88    Male   \n",
       "131659          3.33625                         0    NaN    48    75  Female   \n",
       "131660          4.15750                         1   47.0    54    79    Male   \n",
       "131661          2.63875                         1  102.0    57    85    Male   \n",
       "\n",
       "        Surge_Pricing_Type  \n",
       "0                        2  \n",
       "1                        2  \n",
       "2                        2  \n",
       "3                        3  \n",
       "4                        2  \n",
       "...                    ...  \n",
       "131657                   3  \n",
       "131658                   2  \n",
       "131659                   2  \n",
       "131660                   2  \n",
       "131661                   1  \n",
       "\n",
       "[131662 rows x 14 columns]"
      ]
     },
     "execution_count": 6,
     "metadata": {},
     "output_type": "execute_result"
    }
   ],
   "source": [
    "train.replace(r'^\\s*$', np.nan, regex=True)"
   ]
  },
  {
   "cell_type": "markdown",
   "metadata": {},
   "source": [
    "# Null Values"
   ]
  },
  {
   "cell_type": "markdown",
   "metadata": {},
   "source": [
    "##### Since the Type_of_cab have empty columns we will replace them by the mode of the Type_of_cab column.\n",
    "\n",
    "##### Since the Customer_Since_Months have empty columns we will replace them by the mean of the Customer_Since_Months column.\n",
    "\n",
    "##### Since the Life_Style_Index have empty columns we will replace them by the mean of the Life_Style_Index column.\n",
    "\n",
    "##### Since the Confidence_Life_Style_Index have empty columns we will replace them by the mean of the Confidence_Life_Style_Index column.\n",
    "\n",
    "##### Since the Var1 have empty columns we will replace them by the mean of the Var1 column."
   ]
  },
  {
   "cell_type": "code",
   "execution_count": 7,
   "metadata": {
    "execution": {
     "iopub.execute_input": "2021-08-16T05:09:54.167906Z",
     "iopub.status.busy": "2021-08-16T05:09:54.167549Z",
     "iopub.status.idle": "2021-08-16T05:09:54.242459Z",
     "shell.execute_reply": "2021-08-16T05:09:54.241325Z",
     "shell.execute_reply.started": "2021-08-16T05:09:54.167871Z"
    }
   },
   "outputs": [],
   "source": [
    "train['Type_of_Cab'] = train['Type_of_Cab'].fillna(train['Type_of_Cab'].mode()[0])\n",
    "\n",
    "train['Customer_Since_Months'] = train['Customer_Since_Months'].fillna(train['Customer_Since_Months'].mean())\n",
    "\n",
    "train['Life_Style_Index'] = train['Life_Style_Index'].fillna(train['Life_Style_Index'].mean())\n",
    "\n",
    "train['Confidence_Life_Style_Index'] = train['Confidence_Life_Style_Index'].fillna(train['Confidence_Life_Style_Index'].mode()[0])\n",
    "\n",
    "train['Var1'] = train['Var1'].fillna(train['Var1'].mean())"
   ]
  },
  {
   "cell_type": "code",
   "execution_count": 8,
   "metadata": {
    "execution": {
     "iopub.execute_input": "2021-08-16T05:09:54.244002Z",
     "iopub.status.busy": "2021-08-16T05:09:54.243599Z",
     "iopub.status.idle": "2021-08-16T05:09:54.321551Z",
     "shell.execute_reply": "2021-08-16T05:09:54.320385Z",
     "shell.execute_reply.started": "2021-08-16T05:09:54.24397Z"
    }
   },
   "outputs": [
    {
     "data": {
      "text/plain": [
       "Trip_ID                        0\n",
       "Trip_Distance                  0\n",
       "Type_of_Cab                    0\n",
       "Customer_Since_Months          0\n",
       "Life_Style_Index               0\n",
       "Confidence_Life_Style_Index    0\n",
       "Destination_Type               0\n",
       "Customer_Rating                0\n",
       "Cancellation_Last_1Month       0\n",
       "Var1                           0\n",
       "Var2                           0\n",
       "Var3                           0\n",
       "Gender                         0\n",
       "Surge_Pricing_Type             0\n",
       "dtype: int64"
      ]
     },
     "execution_count": 8,
     "metadata": {},
     "output_type": "execute_result"
    }
   ],
   "source": [
    "train.isnull().sum()"
   ]
  },
  {
   "cell_type": "code",
   "execution_count": 9,
   "metadata": {
    "execution": {
     "iopub.execute_input": "2021-08-16T05:09:54.323255Z",
     "iopub.status.busy": "2021-08-16T05:09:54.3229Z",
     "iopub.status.idle": "2021-08-16T05:09:54.33841Z",
     "shell.execute_reply": "2021-08-16T05:09:54.337328Z",
     "shell.execute_reply.started": "2021-08-16T05:09:54.323219Z"
    }
   },
   "outputs": [],
   "source": [
    "train = train.drop(['Trip_ID'], axis = 1)"
   ]
  },
  {
   "cell_type": "code",
   "execution_count": 10,
   "metadata": {
    "execution": {
     "iopub.execute_input": "2021-08-16T05:09:54.340333Z",
     "iopub.status.busy": "2021-08-16T05:09:54.339894Z",
     "iopub.status.idle": "2021-08-16T05:09:54.365314Z",
     "shell.execute_reply": "2021-08-16T05:09:54.363741Z",
     "shell.execute_reply.started": "2021-08-16T05:09:54.340298Z"
    }
   },
   "outputs": [
    {
     "data": {
      "text/plain": [
       "array(['A', 'E', 'B', 'C', 'G', 'D', 'F', 'K', 'L', 'H', 'I', 'J', 'M',\n",
       "       'N'], dtype=object)"
      ]
     },
     "execution_count": 10,
     "metadata": {},
     "output_type": "execute_result"
    }
   ],
   "source": [
    "train.Destination_Type.unique()"
   ]
  },
  {
   "cell_type": "markdown",
   "metadata": {},
   "source": [
    "## Converting Categorical values to Numerical values"
   ]
  },
  {
   "cell_type": "code",
   "execution_count": 11,
   "metadata": {
    "execution": {
     "iopub.execute_input": "2021-08-16T05:09:54.367397Z",
     "iopub.status.busy": "2021-08-16T05:09:54.366995Z",
     "iopub.status.idle": "2021-08-16T05:09:54.376515Z",
     "shell.execute_reply": "2021-08-16T05:09:54.37526Z",
     "shell.execute_reply.started": "2021-08-16T05:09:54.367349Z"
    }
   },
   "outputs": [],
   "source": [
    "cleanup_nums = {\"Type_of_Cab\": {\"A\": 1, \"B\": 2, \"C\": 3, \"D\": 4, \"E\": 5},\n",
    "                \"Confidence_Life_Style_Index\": {\"A\": 1, \"B\": 2, \"C\": 3},\n",
    "                \"Destination_Type\": {'A': 1, 'E': 5, 'B': 2, 'C': 3, 'G': 7, 'D': 4, 'F': 6, 'K': 11, 'L': 12, 'H': 8, 'I': 9, 'J': 10, 'M': 13,'N': 14},\n",
    "                \"Gender\" :{'Male': 1, \"Female\": 2}}"
   ]
  },
  {
   "cell_type": "code",
   "execution_count": 12,
   "metadata": {
    "execution": {
     "iopub.execute_input": "2021-08-16T05:09:54.378688Z",
     "iopub.status.busy": "2021-08-16T05:09:54.378197Z",
     "iopub.status.idle": "2021-08-16T05:09:54.871609Z",
     "shell.execute_reply": "2021-08-16T05:09:54.870628Z",
     "shell.execute_reply.started": "2021-08-16T05:09:54.378638Z"
    }
   },
   "outputs": [],
   "source": [
    "train = train.replace(cleanup_nums)"
   ]
  },
  {
   "cell_type": "code",
   "execution_count": 13,
   "metadata": {
    "execution": {
     "iopub.execute_input": "2021-08-16T05:09:54.873548Z",
     "iopub.status.busy": "2021-08-16T05:09:54.873095Z",
     "iopub.status.idle": "2021-08-16T05:09:54.894744Z",
     "shell.execute_reply": "2021-08-16T05:09:54.893344Z",
     "shell.execute_reply.started": "2021-08-16T05:09:54.873503Z"
    }
   },
   "outputs": [
    {
     "name": "stdout",
     "output_type": "stream",
     "text": [
      "<class 'pandas.core.frame.DataFrame'>\n",
      "RangeIndex: 131662 entries, 0 to 131661\n",
      "Data columns (total 13 columns):\n",
      " #   Column                       Non-Null Count   Dtype  \n",
      "---  ------                       --------------   -----  \n",
      " 0   Trip_Distance                131662 non-null  float64\n",
      " 1   Type_of_Cab                  131662 non-null  int64  \n",
      " 2   Customer_Since_Months        131662 non-null  float64\n",
      " 3   Life_Style_Index             131662 non-null  float64\n",
      " 4   Confidence_Life_Style_Index  131662 non-null  int64  \n",
      " 5   Destination_Type             131662 non-null  int64  \n",
      " 6   Customer_Rating              131662 non-null  float64\n",
      " 7   Cancellation_Last_1Month     131662 non-null  int64  \n",
      " 8   Var1                         131662 non-null  float64\n",
      " 9   Var2                         131662 non-null  int64  \n",
      " 10  Var3                         131662 non-null  int64  \n",
      " 11  Gender                       131662 non-null  int64  \n",
      " 12  Surge_Pricing_Type           131662 non-null  int64  \n",
      "dtypes: float64(5), int64(8)\n",
      "memory usage: 13.1 MB\n"
     ]
    }
   ],
   "source": [
    "train.info()"
   ]
  },
  {
   "cell_type": "code",
   "execution_count": 14,
   "metadata": {
    "execution": {
     "iopub.execute_input": "2021-08-16T05:09:54.896766Z",
     "iopub.status.busy": "2021-08-16T05:09:54.896447Z",
     "iopub.status.idle": "2021-08-16T05:09:54.918133Z",
     "shell.execute_reply": "2021-08-16T05:09:54.916928Z",
     "shell.execute_reply.started": "2021-08-16T05:09:54.896735Z"
    }
   },
   "outputs": [
    {
     "data": {
      "text/html": [
       "<div>\n",
       "<style scoped>\n",
       "    .dataframe tbody tr th:only-of-type {\n",
       "        vertical-align: middle;\n",
       "    }\n",
       "\n",
       "    .dataframe tbody tr th {\n",
       "        vertical-align: top;\n",
       "    }\n",
       "\n",
       "    .dataframe thead th {\n",
       "        text-align: right;\n",
       "    }\n",
       "</style>\n",
       "<table border=\"1\" class=\"dataframe\">\n",
       "  <thead>\n",
       "    <tr style=\"text-align: right;\">\n",
       "      <th></th>\n",
       "      <th>Trip_Distance</th>\n",
       "      <th>Type_of_Cab</th>\n",
       "      <th>Customer_Since_Months</th>\n",
       "      <th>Life_Style_Index</th>\n",
       "      <th>Confidence_Life_Style_Index</th>\n",
       "      <th>Destination_Type</th>\n",
       "      <th>Customer_Rating</th>\n",
       "      <th>Cancellation_Last_1Month</th>\n",
       "      <th>Var1</th>\n",
       "      <th>Var2</th>\n",
       "      <th>Var3</th>\n",
       "      <th>Gender</th>\n",
       "      <th>Surge_Pricing_Type</th>\n",
       "    </tr>\n",
       "  </thead>\n",
       "  <tbody>\n",
       "    <tr>\n",
       "      <th>0</th>\n",
       "      <td>6.77</td>\n",
       "      <td>2</td>\n",
       "      <td>1.0</td>\n",
       "      <td>2.427690</td>\n",
       "      <td>1</td>\n",
       "      <td>1</td>\n",
       "      <td>3.90500</td>\n",
       "      <td>0</td>\n",
       "      <td>40.000000</td>\n",
       "      <td>46</td>\n",
       "      <td>60</td>\n",
       "      <td>2</td>\n",
       "      <td>2</td>\n",
       "    </tr>\n",
       "    <tr>\n",
       "      <th>1</th>\n",
       "      <td>29.47</td>\n",
       "      <td>2</td>\n",
       "      <td>10.0</td>\n",
       "      <td>2.782450</td>\n",
       "      <td>2</td>\n",
       "      <td>1</td>\n",
       "      <td>3.45000</td>\n",
       "      <td>0</td>\n",
       "      <td>38.000000</td>\n",
       "      <td>56</td>\n",
       "      <td>78</td>\n",
       "      <td>1</td>\n",
       "      <td>2</td>\n",
       "    </tr>\n",
       "    <tr>\n",
       "      <th>2</th>\n",
       "      <td>41.58</td>\n",
       "      <td>2</td>\n",
       "      <td>10.0</td>\n",
       "      <td>2.802064</td>\n",
       "      <td>2</td>\n",
       "      <td>5</td>\n",
       "      <td>3.50125</td>\n",
       "      <td>2</td>\n",
       "      <td>64.202698</td>\n",
       "      <td>56</td>\n",
       "      <td>77</td>\n",
       "      <td>1</td>\n",
       "      <td>2</td>\n",
       "    </tr>\n",
       "    <tr>\n",
       "      <th>3</th>\n",
       "      <td>61.56</td>\n",
       "      <td>3</td>\n",
       "      <td>10.0</td>\n",
       "      <td>2.802064</td>\n",
       "      <td>2</td>\n",
       "      <td>1</td>\n",
       "      <td>3.45375</td>\n",
       "      <td>0</td>\n",
       "      <td>64.202698</td>\n",
       "      <td>52</td>\n",
       "      <td>74</td>\n",
       "      <td>1</td>\n",
       "      <td>3</td>\n",
       "    </tr>\n",
       "    <tr>\n",
       "      <th>4</th>\n",
       "      <td>54.95</td>\n",
       "      <td>3</td>\n",
       "      <td>10.0</td>\n",
       "      <td>3.034530</td>\n",
       "      <td>2</td>\n",
       "      <td>1</td>\n",
       "      <td>3.40250</td>\n",
       "      <td>4</td>\n",
       "      <td>51.000000</td>\n",
       "      <td>49</td>\n",
       "      <td>102</td>\n",
       "      <td>1</td>\n",
       "      <td>2</td>\n",
       "    </tr>\n",
       "  </tbody>\n",
       "</table>\n",
       "</div>"
      ],
      "text/plain": [
       "   Trip_Distance  Type_of_Cab  Customer_Since_Months  Life_Style_Index  \\\n",
       "0           6.77            2                    1.0          2.427690   \n",
       "1          29.47            2                   10.0          2.782450   \n",
       "2          41.58            2                   10.0          2.802064   \n",
       "3          61.56            3                   10.0          2.802064   \n",
       "4          54.95            3                   10.0          3.034530   \n",
       "\n",
       "   Confidence_Life_Style_Index  Destination_Type  Customer_Rating  \\\n",
       "0                            1                 1          3.90500   \n",
       "1                            2                 1          3.45000   \n",
       "2                            2                 5          3.50125   \n",
       "3                            2                 1          3.45375   \n",
       "4                            2                 1          3.40250   \n",
       "\n",
       "   Cancellation_Last_1Month       Var1  Var2  Var3  Gender  Surge_Pricing_Type  \n",
       "0                         0  40.000000    46    60       2                   2  \n",
       "1                         0  38.000000    56    78       1                   2  \n",
       "2                         2  64.202698    56    77       1                   2  \n",
       "3                         0  64.202698    52    74       1                   3  \n",
       "4                         4  51.000000    49   102       1                   2  "
      ]
     },
     "execution_count": 14,
     "metadata": {},
     "output_type": "execute_result"
    }
   ],
   "source": [
    "train.head()"
   ]
  },
  {
   "cell_type": "markdown",
   "metadata": {},
   "source": [
    "# Visualizing Data"
   ]
  },
  {
   "cell_type": "code",
   "execution_count": 15,
   "metadata": {
    "execution": {
     "iopub.execute_input": "2021-08-16T05:09:54.925478Z",
     "iopub.status.busy": "2021-08-16T05:09:54.925032Z",
     "iopub.status.idle": "2021-08-16T05:10:02.314836Z",
     "shell.execute_reply": "2021-08-16T05:10:02.313535Z",
     "shell.execute_reply.started": "2021-08-16T05:09:54.925439Z"
    }
   },
   "outputs": [
    {
     "data": {
      "text/plain": [
       "<AxesSubplot:>"
      ]
     },
     "execution_count": 15,
     "metadata": {},
     "output_type": "execute_result"
    },
    {
     "data": {
      "image/png": "[encoded data removed]",
      "text/plain": [
       "<Figure size 432x288 with 1 Axes>"
      ]
     },
     "metadata": {
      "needs_background": "light"
     },
     "output_type": "display_data"
    }
   ],
   "source": [
    "train.plot()"
   ]
  },
  {
   "cell_type": "code",
   "execution_count": 16,
   "metadata": {
    "execution": {
     "iopub.execute_input": "2021-08-16T05:10:02.317287Z",
     "iopub.status.busy": "2021-08-16T05:10:02.316747Z",
     "iopub.status.idle": "2021-08-16T05:10:02.715198Z",
     "shell.execute_reply": "2021-08-16T05:10:02.714241Z",
     "shell.execute_reply.started": "2021-08-16T05:10:02.317171Z"
    }
   },
   "outputs": [
    {
     "data": {
      "text/plain": [
       "<AxesSubplot:xlabel='Surge_Pricing_Type'>"
      ]
     },
     "execution_count": 16,
     "metadata": {},
     "output_type": "execute_result"
    },
    {
     "data": {
      "image/png": "[encoded data removed]",
      "text/plain": [
       "<Figure size 432x288 with 1 Axes>"
      ]
     },
     "metadata": {
      "needs_background": "light"
     },
     "output_type": "display_data"
    }
   ],
   "source": [
    "train.groupby('Surge_Pricing_Type').count().plot(kind='bar')"
   ]
  },
  {
   "cell_type": "markdown",
   "metadata": {},
   "source": [
    "# Histogram"
   ]
  },
  {
   "cell_type": "code",
   "execution_count": 17,
   "metadata": {
    "execution": {
     "iopub.execute_input": "2021-08-16T05:10:02.717841Z",
     "iopub.status.busy": "2021-08-16T05:10:02.717374Z",
     "iopub.status.idle": "2021-08-16T05:10:05.26947Z",
     "shell.execute_reply": "2021-08-16T05:10:05.268307Z",
     "shell.execute_reply.started": "2021-08-16T05:10:02.717796Z"
    }
   },
   "outputs": [
    {
     "data": {
      "text/plain": [
       "array([[<AxesSubplot:title={'center':'Trip_Distance'}>,\n",
       "        <AxesSubplot:title={'center':'Type_of_Cab'}>,\n",
       "        <AxesSubplot:title={'center':'Customer_Since_Months'}>,\n",
       "        <AxesSubplot:title={'center':'Life_Style_Index'}>],\n",
       "       [<AxesSubplot:title={'center':'Confidence_Life_Style_Index'}>,\n",
       "        <AxesSubplot:title={'center':'Destination_Type'}>,\n",
       "        <AxesSubplot:title={'center':'Customer_Rating'}>,\n",
       "        <AxesSubplot:title={'center':'Cancellation_Last_1Month'}>],\n",
       "       [<AxesSubplot:title={'center':'Var1'}>,\n",
       "        <AxesSubplot:title={'center':'Var2'}>,\n",
       "        <AxesSubplot:title={'center':'Var3'}>,\n",
       "        <AxesSubplot:title={'center':'Gender'}>],\n",
       "       [<AxesSubplot:title={'center':'Surge_Pricing_Type'}>,\n",
       "        <AxesSubplot:>, <AxesSubplot:>, <AxesSubplot:>]], dtype=object)"
      ]
     },
     "execution_count": 17,
     "metadata": {},
     "output_type": "execute_result"
    },
    {
     "data": {
      "image/png": "[encoded data removed]",
      "text/plain": [
       "<Figure size 1080x720 with 16 Axes>"
      ]
     },
     "metadata": {
      "needs_background": "light"
     },
     "output_type": "display_data"
    }
   ],
   "source": [
    "train.hist(bins = 20, figsize = (15, 10))"
   ]
  },
  {
   "cell_type": "code",
   "execution_count": 18,
   "metadata": {
    "execution": {
     "iopub.execute_input": "2021-08-16T05:10:05.271278Z",
     "iopub.status.busy": "2021-08-16T05:10:05.270943Z",
     "iopub.status.idle": "2021-08-16T05:10:05.275591Z",
     "shell.execute_reply": "2021-08-16T05:10:05.27431Z",
     "shell.execute_reply.started": "2021-08-16T05:10:05.271248Z"
    }
   },
   "outputs": [],
   "source": [
    "#sns.pairplot(train, hue = 'Surge_Pricing_Type')"
   ]
  },
  {
   "cell_type": "markdown",
   "metadata": {},
   "source": [
    "# Heatmap"
   ]
  },
  {
   "cell_type": "code",
   "execution_count": 19,
   "metadata": {
    "execution": {
     "iopub.execute_input": "2021-08-16T05:10:05.277893Z",
     "iopub.status.busy": "2021-08-16T05:10:05.277418Z",
     "iopub.status.idle": "2021-08-16T05:10:06.70495Z",
     "shell.execute_reply": "2021-08-16T05:10:06.703549Z",
     "shell.execute_reply.started": "2021-08-16T05:10:05.277843Z"
    }
   },
   "outputs": [
    {
     "data": {
      "image/png": "[encoded data removed]",
      "text/plain": [
       "<Figure size 864x720 with 2 Axes>"
      ]
     },
     "metadata": {
      "needs_background": "light"
     },
     "output_type": "display_data"
    }
   ],
   "source": [
    "import matplotlib.pyplot as plt\n",
    "import seaborn as sns\n",
    "plt.figure(figsize=(12,10))\n",
    "sns.heatmap(train.corr(), annot = True, cmap = \"RdYlGn\")\n",
    "plt.show()"
   ]
  },
  {
   "cell_type": "code",
   "execution_count": 20,
   "metadata": {
    "execution": {
     "iopub.execute_input": "2021-08-16T05:10:06.710892Z",
     "iopub.status.busy": "2021-08-16T05:10:06.710539Z",
     "iopub.status.idle": "2021-08-16T05:10:07.062559Z",
     "shell.execute_reply": "2021-08-16T05:10:07.061335Z",
     "shell.execute_reply.started": "2021-08-16T05:10:06.710861Z"
    }
   },
   "outputs": [
    {
     "data": {
      "image/png": "[encoded data removed]",
      "text/plain": [
       "<Figure size 288x288 with 1 Axes>"
      ]
     },
     "metadata": {
      "needs_background": "light"
     },
     "output_type": "display_data"
    }
   ],
   "source": [
    "import matplotlib.pyplot as plt\n",
    "\n",
    "plt.matshow(train.corr())\n",
    "plt.show()"
   ]
  },
  {
   "cell_type": "markdown",
   "metadata": {},
   "source": [
    "# Model Building"
   ]
  },
  {
   "cell_type": "code",
   "execution_count": 21,
   "metadata": {
    "execution": {
     "iopub.execute_input": "2021-08-16T05:10:07.071067Z",
     "iopub.status.busy": "2021-08-16T05:10:07.070493Z",
     "iopub.status.idle": "2021-08-16T05:10:07.128679Z",
     "shell.execute_reply": "2021-08-16T05:10:07.127562Z",
     "shell.execute_reply.started": "2021-08-16T05:10:07.071016Z"
    }
   },
   "outputs": [
    {
     "name": "stdout",
     "output_type": "stream",
     "text": [
      "(105329, 12) (26333, 12) (105329,) (26333,)\n"
     ]
    }
   ],
   "source": [
    "# Splitting the dataset into the Training set and Test set\n",
    "X = train.iloc[:, 0:12].values\n",
    "y = train.iloc[:, 12].values\n",
    "\n",
    "X_train, X_test, y_train, y_test =train_test_split(X,y,test_size=0.2,random_state=0)\n",
    "print(X_train.shape, X_test.shape, y_train.shape, y_test.shape)"
   ]
  },
  {
   "cell_type": "code",
   "execution_count": 22,
   "metadata": {
    "execution": {
     "iopub.execute_input": "2021-08-16T05:10:07.130361Z",
     "iopub.status.busy": "2021-08-16T05:10:07.130034Z",
     "iopub.status.idle": "2021-08-16T05:10:07.176913Z",
     "shell.execute_reply": "2021-08-16T05:10:07.175713Z",
     "shell.execute_reply.started": "2021-08-16T05:10:07.130328Z"
    }
   },
   "outputs": [],
   "source": [
    "#Feature Scaling \n",
    "from sklearn.preprocessing import StandardScaler\n",
    "sc_X= StandardScaler()\n",
    "X_train=sc_X.fit_transform(X_train)\n",
    "X_test=sc_X.transform(X_test)"
   ]
  },
  {
   "cell_type": "markdown",
   "metadata": {},
   "source": [
    "Model Building\n",
    "\n",
    "    --> Decision Tree\n",
    "    --> Logistic Regression\n",
    "    --> Random Forest\n",
    "    --> KNN\n",
    "    --> Naive Bayes\n",
    "    --> XGB\n",
    "    --> LGBM"
   ]
  },
  {
   "cell_type": "markdown",
   "metadata": {},
   "source": [
    "## Decision Tree"
   ]
  },
  {
   "cell_type": "code",
   "execution_count": 23,
   "metadata": {
    "execution": {
     "iopub.execute_input": "2021-08-16T05:10:07.178813Z",
     "iopub.status.busy": "2021-08-16T05:10:07.178442Z",
     "iopub.status.idle": "2021-08-16T05:10:08.430451Z",
     "shell.execute_reply": "2021-08-16T05:10:08.429311Z",
     "shell.execute_reply.started": "2021-08-16T05:10:07.178778Z"
    }
   },
   "outputs": [
    {
     "data": {
      "text/plain": [
       "DecisionTreeClassifier(random_state=0)"
      ]
     },
     "execution_count": 23,
     "metadata": {},
     "output_type": "execute_result"
    }
   ],
   "source": [
    "#Decision Tree\n",
    "\n",
    "model_tree = DecisionTreeClassifier(random_state=0)\n",
    "model_tree.fit(X_train, y_train)"
   ]
  },
  {
   "cell_type": "code",
   "execution_count": 24,
   "metadata": {
    "execution": {
     "iopub.execute_input": "2021-08-16T05:10:08.432421Z",
     "iopub.status.busy": "2021-08-16T05:10:08.431979Z",
     "iopub.status.idle": "2021-08-16T05:10:08.489103Z",
     "shell.execute_reply": "2021-08-16T05:10:08.488024Z",
     "shell.execute_reply.started": "2021-08-16T05:10:08.432379Z"
    }
   },
   "outputs": [
    {
     "name": "stdout",
     "output_type": "stream",
     "text": [
      "[[2842 1714  924]\n",
      " [1769 6572 3013]\n",
      " [1033 2956 5510]]\n"
     ]
    }
   ],
   "source": [
    "Y_pred1 = model_tree.predict(X_test)\n",
    "#Confusion Matrix\n",
    "print(confusion_matrix(y_test, Y_pred1))"
   ]
  },
  {
   "cell_type": "code",
   "execution_count": 25,
   "metadata": {
    "execution": {
     "iopub.execute_input": "2021-08-16T05:10:08.491037Z",
     "iopub.status.busy": "2021-08-16T05:10:08.49063Z",
     "iopub.status.idle": "2021-08-16T05:10:08.499938Z",
     "shell.execute_reply": "2021-08-16T05:10:08.498799Z",
     "shell.execute_reply.started": "2021-08-16T05:10:08.490994Z"
    }
   },
   "outputs": [
    {
     "name": "stdout",
     "output_type": "stream",
     "text": [
      "0.5667413511563437\n"
     ]
    }
   ],
   "source": [
    "# Accuracy Score\n",
    "print(accuracy_score(y_test, Y_pred1))"
   ]
  },
  {
   "cell_type": "code",
   "execution_count": 26,
   "metadata": {
    "execution": {
     "iopub.execute_input": "2021-08-16T05:10:08.501732Z",
     "iopub.status.busy": "2021-08-16T05:10:08.501404Z",
     "iopub.status.idle": "2021-08-16T05:10:08.561454Z",
     "shell.execute_reply": "2021-08-16T05:10:08.560114Z",
     "shell.execute_reply.started": "2021-08-16T05:10:08.501701Z"
    }
   },
   "outputs": [
    {
     "name": "stdout",
     "output_type": "stream",
     "text": [
      "              precision    recall  f1-score   support\n",
      "\n",
      "           1       0.50      0.52      0.51      5480\n",
      "           2       0.58      0.58      0.58     11354\n",
      "           3       0.58      0.58      0.58      9499\n",
      "\n",
      "    accuracy                           0.57     26333\n",
      "   macro avg       0.56      0.56      0.56     26333\n",
      "weighted avg       0.57      0.57      0.57     26333\n",
      "\n"
     ]
    }
   ],
   "source": [
    "#Interpretation:\n",
    "print(classification_report(y_test, Y_pred1))"
   ]
  },
  {
   "cell_type": "markdown",
   "metadata": {},
   "source": [
    "## Logistic Regression"
   ]
  },
  {
   "cell_type": "code",
   "execution_count": 27,
   "metadata": {
    "execution": {
     "iopub.execute_input": "2021-08-16T05:10:08.562957Z",
     "iopub.status.busy": "2021-08-16T05:10:08.562583Z",
     "iopub.status.idle": "2021-08-16T05:10:09.770759Z",
     "shell.execute_reply": "2021-08-16T05:10:09.769608Z",
     "shell.execute_reply.started": "2021-08-16T05:10:08.562927Z"
    }
   },
   "outputs": [
    {
     "data": {
      "text/plain": [
       "LogisticRegression()"
      ]
     },
     "execution_count": 27,
     "metadata": {},
     "output_type": "execute_result"
    }
   ],
   "source": [
    "#Logistic Regression\n",
    "model_linear = LogisticRegression()\n",
    "model_linear.fit(X_train, y_train)"
   ]
  },
  {
   "cell_type": "code",
   "execution_count": 28,
   "metadata": {
    "execution": {
     "iopub.execute_input": "2021-08-16T05:10:09.777144Z",
     "iopub.status.busy": "2021-08-16T05:10:09.776304Z",
     "iopub.status.idle": "2021-08-16T05:10:09.856479Z",
     "shell.execute_reply": "2021-08-16T05:10:09.855283Z",
     "shell.execute_reply.started": "2021-08-16T05:10:09.777088Z"
    }
   },
   "outputs": [
    {
     "name": "stdout",
     "output_type": "stream",
     "text": [
      "[[2801 2238  441]\n",
      " [ 611 8332 2411]\n",
      " [ 459 3372 5668]]\n"
     ]
    }
   ],
   "source": [
    "Y_pred2 = model_linear.predict(X_test)\n",
    "#Confusion Matrix\n",
    "print(confusion_matrix(y_test, Y_pred2))"
   ]
  },
  {
   "cell_type": "code",
   "execution_count": 29,
   "metadata": {
    "execution": {
     "iopub.execute_input": "2021-08-16T05:10:09.859476Z",
     "iopub.status.busy": "2021-08-16T05:10:09.858541Z",
     "iopub.status.idle": "2021-08-16T05:10:09.871283Z",
     "shell.execute_reply": "2021-08-16T05:10:09.869829Z",
     "shell.execute_reply.started": "2021-08-16T05:10:09.859415Z"
    }
   },
   "outputs": [
    {
     "name": "stdout",
     "output_type": "stream",
     "text": [
      "0.6380207344396764\n"
     ]
    }
   ],
   "source": [
    "# Accuracy Score\n",
    "print(accuracy_score(y_test, Y_pred2))"
   ]
  },
  {
   "cell_type": "code",
   "execution_count": 30,
   "metadata": {
    "execution": {
     "iopub.execute_input": "2021-08-16T05:10:09.87524Z",
     "iopub.status.busy": "2021-08-16T05:10:09.873798Z",
     "iopub.status.idle": "2021-08-16T05:10:09.939979Z",
     "shell.execute_reply": "2021-08-16T05:10:09.938744Z",
     "shell.execute_reply.started": "2021-08-16T05:10:09.875154Z"
    }
   },
   "outputs": [
    {
     "name": "stdout",
     "output_type": "stream",
     "text": [
      "              precision    recall  f1-score   support\n",
      "\n",
      "           1       0.72      0.51      0.60      5480\n",
      "           2       0.60      0.73      0.66     11354\n",
      "           3       0.67      0.60      0.63      9499\n",
      "\n",
      "    accuracy                           0.64     26333\n",
      "   macro avg       0.66      0.61      0.63     26333\n",
      "weighted avg       0.65      0.64      0.64     26333\n",
      "\n"
     ]
    }
   ],
   "source": [
    "#Interpretation:\n",
    "print(classification_report(y_test, Y_pred2))"
   ]
  },
  {
   "cell_type": "markdown",
   "metadata": {},
   "source": [
    "## Random Forest Classifier"
   ]
  },
  {
   "cell_type": "code",
   "execution_count": 31,
   "metadata": {
    "execution": {
     "iopub.execute_input": "2021-08-16T05:10:09.941931Z",
     "iopub.status.busy": "2021-08-16T05:10:09.941474Z",
     "iopub.status.idle": "2021-08-16T05:10:33.514512Z",
     "shell.execute_reply": "2021-08-16T05:10:33.513444Z",
     "shell.execute_reply.started": "2021-08-16T05:10:09.941899Z"
    }
   },
   "outputs": [
    {
     "data": {
      "text/plain": [
       "RandomForestClassifier(random_state=0)"
      ]
     },
     "execution_count": 31,
     "metadata": {},
     "output_type": "execute_result"
    }
   ],
   "source": [
    "#Random Forest Classifier\n",
    "model_random = RandomForestClassifier(random_state=0)\n",
    "model_random.fit(X_train, y_train)"
   ]
  },
  {
   "cell_type": "code",
   "execution_count": 32,
   "metadata": {
    "execution": {
     "iopub.execute_input": "2021-08-16T05:10:33.516402Z",
     "iopub.status.busy": "2021-08-16T05:10:33.515802Z",
     "iopub.status.idle": "2021-08-16T05:10:34.589798Z",
     "shell.execute_reply": "2021-08-16T05:10:34.588488Z",
     "shell.execute_reply.started": "2021-08-16T05:10:33.516357Z"
    }
   },
   "outputs": [
    {
     "name": "stdout",
     "output_type": "stream",
     "text": [
      "[[2970 1997  513]\n",
      " [ 478 9302 1574]\n",
      " [ 468 3247 5784]]\n"
     ]
    }
   ],
   "source": [
    "Y_pred3 = model_random.predict(X_test)\n",
    "#Confusion Matrix\n",
    "print(confusion_matrix(y_test, Y_pred3))"
   ]
  },
  {
   "cell_type": "code",
   "execution_count": 33,
   "metadata": {
    "execution": {
     "iopub.execute_input": "2021-08-16T05:10:34.591421Z",
     "iopub.status.busy": "2021-08-16T05:10:34.591107Z",
     "iopub.status.idle": "2021-08-16T05:10:34.598279Z",
     "shell.execute_reply": "2021-08-16T05:10:34.59725Z",
     "shell.execute_reply.started": "2021-08-16T05:10:34.591392Z"
    }
   },
   "outputs": [
    {
     "name": "stdout",
     "output_type": "stream",
     "text": [
      "0.685679565564121\n"
     ]
    }
   ],
   "source": [
    "# Accuracy Score\n",
    "print(accuracy_score(y_test, Y_pred3))"
   ]
  },
  {
   "cell_type": "code",
   "execution_count": 34,
   "metadata": {
    "execution": {
     "iopub.execute_input": "2021-08-16T05:10:34.59997Z",
     "iopub.status.busy": "2021-08-16T05:10:34.599661Z",
     "iopub.status.idle": "2021-08-16T05:10:34.656686Z",
     "shell.execute_reply": "2021-08-16T05:10:34.655409Z",
     "shell.execute_reply.started": "2021-08-16T05:10:34.59994Z"
    }
   },
   "outputs": [
    {
     "name": "stdout",
     "output_type": "stream",
     "text": [
      "              precision    recall  f1-score   support\n",
      "\n",
      "           1       0.76      0.54      0.63      5480\n",
      "           2       0.64      0.82      0.72     11354\n",
      "           3       0.73      0.61      0.67      9499\n",
      "\n",
      "    accuracy                           0.69     26333\n",
      "   macro avg       0.71      0.66      0.67     26333\n",
      "weighted avg       0.70      0.69      0.68     26333\n",
      "\n"
     ]
    }
   ],
   "source": [
    "#Interpretation:\n",
    "print(classification_report(y_test, Y_pred3))"
   ]
  },
  {
   "cell_type": "markdown",
   "metadata": {},
   "source": [
    "## KNN"
   ]
  },
  {
   "cell_type": "code",
   "execution_count": 35,
   "metadata": {
    "execution": {
     "iopub.execute_input": "2021-08-16T05:10:34.658542Z",
     "iopub.status.busy": "2021-08-16T05:10:34.658161Z",
     "iopub.status.idle": "2021-08-16T05:10:35.377848Z",
     "shell.execute_reply": "2021-08-16T05:10:35.376594Z",
     "shell.execute_reply.started": "2021-08-16T05:10:34.658508Z"
    }
   },
   "outputs": [
    {
     "data": {
      "text/plain": [
       "KNeighborsClassifier(n_neighbors=3)"
      ]
     },
     "execution_count": 35,
     "metadata": {},
     "output_type": "execute_result"
    }
   ],
   "source": [
    "#KNN\n",
    "model_knn = KNeighborsClassifier(n_neighbors=3,metric='minkowski',p=2)\n",
    "model_knn.fit(X_train, y_train)"
   ]
  },
  {
   "cell_type": "code",
   "execution_count": 36,
   "metadata": {
    "execution": {
     "iopub.execute_input": "2021-08-16T05:10:35.380952Z",
     "iopub.status.busy": "2021-08-16T05:10:35.38045Z",
     "iopub.status.idle": "2021-08-16T05:11:01.997771Z",
     "shell.execute_reply": "2021-08-16T05:11:01.996441Z",
     "shell.execute_reply.started": "2021-08-16T05:10:35.380902Z"
    }
   },
   "outputs": [
    {
     "name": "stdout",
     "output_type": "stream",
     "text": [
      "[[3066 1794  620]\n",
      " [2095 6927 2332]\n",
      " [1280 2970 5249]]\n"
     ]
    }
   ],
   "source": [
    "Y_pred4 = model_knn.predict(X_test)\n",
    "#Confusion Matrix\n",
    "print(confusion_matrix(y_test, Y_pred4))"
   ]
  },
  {
   "cell_type": "code",
   "execution_count": 37,
   "metadata": {
    "execution": {
     "iopub.execute_input": "2021-08-16T05:11:02.000155Z",
     "iopub.status.busy": "2021-08-16T05:11:01.999697Z",
     "iopub.status.idle": "2021-08-16T05:11:02.009008Z",
     "shell.execute_reply": "2021-08-16T05:11:02.007617Z",
     "shell.execute_reply.started": "2021-08-16T05:11:02.000106Z"
    }
   },
   "outputs": [
    {
     "name": "stdout",
     "output_type": "stream",
     "text": [
      "0.5788174533854858\n"
     ]
    }
   ],
   "source": [
    "# Accuracy Score\n",
    "print(accuracy_score(y_test, Y_pred4))"
   ]
  },
  {
   "cell_type": "code",
   "execution_count": 38,
   "metadata": {
    "execution": {
     "iopub.execute_input": "2021-08-16T05:11:02.011028Z",
     "iopub.status.busy": "2021-08-16T05:11:02.010696Z",
     "iopub.status.idle": "2021-08-16T05:11:02.073423Z",
     "shell.execute_reply": "2021-08-16T05:11:02.072311Z",
     "shell.execute_reply.started": "2021-08-16T05:11:02.010995Z"
    }
   },
   "outputs": [
    {
     "name": "stdout",
     "output_type": "stream",
     "text": [
      "              precision    recall  f1-score   support\n",
      "\n",
      "           1       0.48      0.56      0.51      5480\n",
      "           2       0.59      0.61      0.60     11354\n",
      "           3       0.64      0.55      0.59      9499\n",
      "\n",
      "    accuracy                           0.58     26333\n",
      "   macro avg       0.57      0.57      0.57     26333\n",
      "weighted avg       0.59      0.58      0.58     26333\n",
      "\n"
     ]
    }
   ],
   "source": [
    "#Interpretation:\n",
    "print(classification_report(y_test, Y_pred4))"
   ]
  },
  {
   "cell_type": "markdown",
   "metadata": {},
   "source": [
    "## Naive Bayes"
   ]
  },
  {
   "cell_type": "code",
   "execution_count": 39,
   "metadata": {
    "execution": {
     "iopub.execute_input": "2021-08-16T05:11:02.075419Z",
     "iopub.status.busy": "2021-08-16T05:11:02.074953Z",
     "iopub.status.idle": "2021-08-16T05:11:02.121894Z",
     "shell.execute_reply": "2021-08-16T05:11:02.120731Z",
     "shell.execute_reply.started": "2021-08-16T05:11:02.075368Z"
    }
   },
   "outputs": [
    {
     "data": {
      "text/plain": [
       "GaussianNB()"
      ]
     },
     "execution_count": 39,
     "metadata": {},
     "output_type": "execute_result"
    }
   ],
   "source": [
    "#Naive Bayes\n",
    "model_nb = GaussianNB()\n",
    "model_nb.fit(X_train,y_train)"
   ]
  },
  {
   "cell_type": "code",
   "execution_count": 40,
   "metadata": {
    "execution": {
     "iopub.execute_input": "2021-08-16T05:11:02.125615Z",
     "iopub.status.busy": "2021-08-16T05:11:02.125311Z",
     "iopub.status.idle": "2021-08-16T05:11:02.178003Z",
     "shell.execute_reply": "2021-08-16T05:11:02.176805Z",
     "shell.execute_reply.started": "2021-08-16T05:11:02.125585Z"
    }
   },
   "outputs": [
    {
     "name": "stdout",
     "output_type": "stream",
     "text": [
      "[[2775 2079  626]\n",
      " [ 641 8522 2191]\n",
      " [ 451 3310 5738]]\n"
     ]
    }
   ],
   "source": [
    "Y_pred5 = model_nb.predict(X_test)\n",
    "#Confusion Matrix\n",
    "print(confusion_matrix(y_test, Y_pred5))"
   ]
  },
  {
   "cell_type": "code",
   "execution_count": 41,
   "metadata": {
    "execution": {
     "iopub.execute_input": "2021-08-16T05:11:02.179442Z",
     "iopub.status.busy": "2021-08-16T05:11:02.179136Z",
     "iopub.status.idle": "2021-08-16T05:11:02.186378Z",
     "shell.execute_reply": "2021-08-16T05:11:02.185162Z",
     "shell.execute_reply.started": "2021-08-16T05:11:02.179414Z"
    }
   },
   "outputs": [
    {
     "name": "stdout",
     "output_type": "stream",
     "text": [
      "0.6469069228724414\n"
     ]
    }
   ],
   "source": [
    "# Accuracy Score\n",
    "print(accuracy_score(y_test, Y_pred5))"
   ]
  },
  {
   "cell_type": "code",
   "execution_count": 42,
   "metadata": {
    "execution": {
     "iopub.execute_input": "2021-08-16T05:11:02.188475Z",
     "iopub.status.busy": "2021-08-16T05:11:02.188078Z",
     "iopub.status.idle": "2021-08-16T05:11:02.248812Z",
     "shell.execute_reply": "2021-08-16T05:11:02.247609Z",
     "shell.execute_reply.started": "2021-08-16T05:11:02.188423Z"
    }
   },
   "outputs": [
    {
     "name": "stdout",
     "output_type": "stream",
     "text": [
      "              precision    recall  f1-score   support\n",
      "\n",
      "           1       0.72      0.51      0.59      5480\n",
      "           2       0.61      0.75      0.67     11354\n",
      "           3       0.67      0.60      0.64      9499\n",
      "\n",
      "    accuracy                           0.65     26333\n",
      "   macro avg       0.67      0.62      0.63     26333\n",
      "weighted avg       0.66      0.65      0.64     26333\n",
      "\n"
     ]
    }
   ],
   "source": [
    "#Interpretation:\n",
    "print(classification_report(y_test, Y_pred5))"
   ]
  },
  {
   "cell_type": "markdown",
   "metadata": {},
   "source": [
    "## LGBM Classifier\n"
   ]
  },
  {
   "cell_type": "code",
   "execution_count": 43,
   "metadata": {
    "execution": {
     "iopub.execute_input": "2021-08-16T05:12:21.692058Z",
     "iopub.status.busy": "2021-08-16T05:12:21.69159Z",
     "iopub.status.idle": "2021-08-16T05:12:23.641455Z",
     "shell.execute_reply": "2021-08-16T05:12:23.640361Z",
     "shell.execute_reply.started": "2021-08-16T05:12:21.692026Z"
    }
   },
   "outputs": [
    {
     "data": {
      "text/plain": [
       "LGBMClassifier()"
      ]
     },
     "execution_count": 43,
     "metadata": {},
     "output_type": "execute_result"
    }
   ],
   "source": [
    "#LGBM Classifier\n",
    "clf = lgb.LGBMClassifier()\n",
    "clf.fit(X_train, y_train)"
   ]
  },
  {
   "cell_type": "code",
   "execution_count": 44,
   "metadata": {
    "execution": {
     "iopub.execute_input": "2021-08-16T05:12:23.648546Z",
     "iopub.status.busy": "2021-08-16T05:12:23.646293Z",
     "iopub.status.idle": "2021-08-16T05:12:23.886155Z",
     "shell.execute_reply": "2021-08-16T05:12:23.885265Z",
     "shell.execute_reply.started": "2021-08-16T05:12:23.64848Z"
    }
   },
   "outputs": [
    {
     "name": "stdout",
     "output_type": "stream",
     "text": [
      "[[2972 2006  502]\n",
      " [ 427 9488 1439]\n",
      " [ 417 3277 5805]]\n"
     ]
    }
   ],
   "source": [
    "Y_pred7 = clf.predict(X_test)\n",
    "#Confusion Matrix\n",
    "print(confusion_matrix(y_test, Y_pred7))"
   ]
  },
  {
   "cell_type": "code",
   "execution_count": 45,
   "metadata": {
    "execution": {
     "iopub.execute_input": "2021-08-16T05:12:23.888023Z",
     "iopub.status.busy": "2021-08-16T05:12:23.887446Z",
     "iopub.status.idle": "2021-08-16T05:12:23.895271Z",
     "shell.execute_reply": "2021-08-16T05:12:23.894238Z",
     "shell.execute_reply.started": "2021-08-16T05:12:23.887987Z"
    }
   },
   "outputs": [
    {
     "name": "stdout",
     "output_type": "stream",
     "text": [
      "0.6936163748908214\n"
     ]
    }
   ],
   "source": [
    "# Accuracy Score\n",
    "print(accuracy_score(y_test, Y_pred7))"
   ]
  },
  {
   "cell_type": "code",
   "execution_count": 46,
   "metadata": {
    "execution": {
     "iopub.execute_input": "2021-08-16T05:21:21.894095Z",
     "iopub.status.busy": "2021-08-16T05:21:21.89374Z",
     "iopub.status.idle": "2021-08-16T05:21:21.948209Z",
     "shell.execute_reply": "2021-08-16T05:21:21.947426Z",
     "shell.execute_reply.started": "2021-08-16T05:21:21.894062Z"
    }
   },
   "outputs": [
    {
     "name": "stdout",
     "output_type": "stream",
     "text": [
      "              precision    recall  f1-score   support\n",
      "\n",
      "           1       0.78      0.54      0.64      5480\n",
      "           2       0.64      0.84      0.73     11354\n",
      "           3       0.75      0.61      0.67      9499\n",
      "\n",
      "    accuracy                           0.69     26333\n",
      "   macro avg       0.72      0.66      0.68     26333\n",
      "weighted avg       0.71      0.69      0.69     26333\n",
      "\n"
     ]
    }
   ],
   "source": [
    "#Interpretation:\n",
    "print(classification_report(y_test, Y_pred7))"
   ]
  },
  {
   "cell_type": "code",
   "execution_count": 49,
   "metadata": {
    "execution": {
     "iopub.execute_input": "2021-08-16T05:12:23.897274Z",
     "iopub.status.busy": "2021-08-16T05:12:23.89669Z",
     "iopub.status.idle": "2021-08-16T05:12:23.908526Z",
     "shell.execute_reply": "2021-08-16T05:12:23.907237Z",
     "shell.execute_reply.started": "2021-08-16T05:12:23.89723Z"
    }
   },
   "outputs": [
    {
     "ename": "SyntaxError",
     "evalue": "invalid syntax (<ipython-input-49-c707b35cfd6c>, line 1)",
     "output_type": "error",
     "traceback": [
      "\u001b[1;36m  File \u001b[1;32m\"<ipython-input-49-c707b35cfd6c>\"\u001b[1;36m, line \u001b[1;32m1\u001b[0m\n\u001b[1;33m    result = {'Model Name':['Decision Tree', 'Logistic Regression', 'Random Forest', 'KNN', 'Naive Bayes',, 'LGBM'],\u001b[0m\n\u001b[1;37m                                                                                                          ^\u001b[0m\n\u001b[1;31mSyntaxError\u001b[0m\u001b[1;31m:\u001b[0m invalid syntax\n"
     ]
    }
   ],
   "source": [
    "result = {'Model Name':['Decision Tree', 'Logistic Regression', 'Random Forest', 'KNN', 'Naive Bayes',, 'LGBM'], \n",
    "          'Accuracy Score': [0.5667413511563437*100, 0.6380207344396764*100, 0.685679565564121*100, 0.5788174533854858*100, 0.6469069228724414*100, 0.6936163748908214*100]}"
   ]
  },
  {
   "cell_type": "code",
   "execution_count": 48,
   "metadata": {
    "execution": {
     "iopub.execute_input": "2021-08-16T05:12:23.912899Z",
     "iopub.status.busy": "2021-08-16T05:12:23.912544Z",
     "iopub.status.idle": "2021-08-16T05:12:23.933264Z",
     "shell.execute_reply": "2021-08-16T05:12:23.932115Z",
     "shell.execute_reply.started": "2021-08-16T05:12:23.912867Z"
    }
   },
   "outputs": [
    {
     "data": {
      "text/html": [
       "<div>\n",
       "<style scoped>\n",
       "    .dataframe tbody tr th:only-of-type {\n",
       "        vertical-align: middle;\n",
       "    }\n",
       "\n",
       "    .dataframe tbody tr th {\n",
       "        vertical-align: top;\n",
       "    }\n",
       "\n",
       "    .dataframe thead th {\n",
       "        text-align: right;\n",
       "    }\n",
       "</style>\n",
       "<table border=\"1\" class=\"dataframe\">\n",
       "  <thead>\n",
       "    <tr style=\"text-align: right;\">\n",
       "      <th></th>\n",
       "      <th>Model Name</th>\n",
       "      <th>Accuracy Score</th>\n",
       "    </tr>\n",
       "  </thead>\n",
       "  <tbody>\n",
       "    <tr>\n",
       "      <th>0</th>\n",
       "      <td>Decision Tree</td>\n",
       "      <td>56.674135</td>\n",
       "    </tr>\n",
       "    <tr>\n",
       "      <th>1</th>\n",
       "      <td>Logistic Regression</td>\n",
       "      <td>63.802073</td>\n",
       "    </tr>\n",
       "    <tr>\n",
       "      <th>2</th>\n",
       "      <td>Random Forest</td>\n",
       "      <td>68.567957</td>\n",
       "    </tr>\n",
       "    <tr>\n",
       "      <th>3</th>\n",
       "      <td>KNN</td>\n",
       "      <td>57.881745</td>\n",
       "    </tr>\n",
       "    <tr>\n",
       "      <th>4</th>\n",
       "      <td>Naive Bayes</td>\n",
       "      <td>64.690692</td>\n",
       "    </tr>\n",
       "    <tr>\n",
       "      <th>5</th>\n",
       "      <td>XGB</td>\n",
       "      <td>68.898340</td>\n",
       "    </tr>\n",
       "    <tr>\n",
       "      <th>6</th>\n",
       "      <td>LGBM</td>\n",
       "      <td>69.361637</td>\n",
       "    </tr>\n",
       "  </tbody>\n",
       "</table>\n",
       "</div>"
      ],
      "text/plain": [
       "            Model Name  Accuracy Score\n",
       "0        Decision Tree       56.674135\n",
       "1  Logistic Regression       63.802073\n",
       "2        Random Forest       68.567957\n",
       "3                  KNN       57.881745\n",
       "4          Naive Bayes       64.690692\n",
       "5                  XGB       68.898340\n",
       "6                 LGBM       69.361637"
      ]
     },
     "execution_count": 48,
     "metadata": {},
     "output_type": "execute_result"
    }
   ],
   "source": [
    "res = pd.DataFrame.from_dict(result)\n",
    "res"
   ]
  },
  {
   "cell_type": "markdown",
   "metadata": {},
   "source": [
    "# Conclusion\n",
    "\n",
    "## Hence, LGBM gives the Highest Accuracy Score"
   ]
  }
 ],
 "metadata": {
  "kernelspec": {
   "display_name": "Python 3",
   "language": "python",
   "name": "python3"
  },
  "language_info": {
   "codemirror_mode": {
    "name": "ipython",
    "version": 3
   },
   "file_extension": ".py",
   "mimetype": "text/x-python",
   "name": "python",
   "nbconvert_exporter": "python",
   "pygments_lexer": "ipython3",
   "version": "3.8.5"
  }
 },
 "nbformat": 4,
 "nbformat_minor": 4
}
